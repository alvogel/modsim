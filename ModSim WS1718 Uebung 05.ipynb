{
 "cells": [
  {
   "cell_type": "markdown",
   "metadata": {
    "collapsed": true
   },
   "source": [
    "## Simulation und Modellierung WS16/17 - Uebung 05"
   ]
  },
  {
   "cell_type": "markdown",
   "metadata": {},
   "source": [
    "### Aufgabe 1 : verallgemeinerte Fibonacci Zahlen"
   ]
  },
  {
   "cell_type": "markdown",
   "metadata": {},
   "source": [
    "Schreiben Sie eine Funktion `AllgFib(F0=1,F1=1,a=1,b=1,N=3)`, welche die ersten `N` Folgeglieder der verallgemeinerten Fibonaccifolge\n",
    "\n",
    "$$\n",
    "    F_{n+1} = a F_n + b F_{n-1}\n",
    "$$\n",
    "\n",
    "mit den Anfangsbedingungen $F_0=$ `F0` und $F_1=$ `F1` berechnet und als Liste ausgibt. (Achtung : Die Definition in der Vorlesung war etwas anders)\n",
    "\n",
    "Schreiben Sie eine Funktion `my_sqrt(x)`, welche mit Hilfe der verallgemeinerten Fibonacci Zahlen die Wurzel aus `x` bis auf Maschinengenauigkeit ausrechnet. Berechnen Sie $\\sqrt{2}$ mit dieser Funktion. \n",
    "\n",
    "*Hinweis :* Iterieren Sie die Fibonacci Folge schrittweise bis sich das Verhaeltnis aufeinanderfolgender Zahlen nicht mehr aendert."
   ]
  },
  {
   "cell_type": "code",
   "execution_count": 77,
   "metadata": {
    "collapsed": false
   },
   "outputs": [
    {
     "name": "stdout",
     "output_type": "stream",
     "text": [
      "1\n",
      "1\n",
      "2\n",
      "3\n",
      "5\n",
      "8\n",
      "13\n",
      "21\n",
      "34\n",
      "55\n",
      "89\n"
     ]
    }
   ],
   "source": [
    "def AllgFib(F0=1,F1=1,a=1,b=1,N=3):\n",
    "    F_n = F1\n",
    "    F_me = F0\n",
    "    print(F0)\n",
    "    print(F1)\n",
    "    for i in range(1,N):\n",
    "        F = a*F_n + b*F_me\n",
    "        print(F)\n",
    "        F_me = F_n\n",
    "        F_n = F       \n",
    "    \n",
    "AllgFib(N=10)\n",
    "\n",
    "### Dokumentierung? -5 \n",
    "### daselbe Funktionnamen fuer zwei Funktionen (nicht empfohlen)"
   ]
  },
  {
   "cell_type": "code",
   "execution_count": 76,
   "metadata": {
    "collapsed": false
   },
   "outputs": [
    {
     "data": {
      "text/plain": [
       "1.414213562373095"
      ]
     },
     "execution_count": 76,
     "metadata": {},
     "output_type": "execute_result"
    }
   ],
   "source": [
    "def AllgFib(F0=1,F1=1,a=1,b=1,N=3):\n",
    "    F_n = F1\n",
    "    F_me = F0\n",
    "    old_ratio = 0 # cache for last reached ratio\n",
    "    \n",
    "    while abs(old_ratio-(F_n / F_me)) > 2**-53: # while difference of ratios is bigger than machine precision\n",
    "        old_ratio = F_n / F_me\n",
    "        F = a*F_n + b*F_me\n",
    "        F_me = F_n\n",
    "        F_n = F\n",
    "        \n",
    "    return F_n / F_me \n",
    "\n",
    "#-----------------------------------------------------------\n",
    "\n",
    "my_sqrt = lambda x : AllgFib(a=2,b=x-1)-1\n",
    "\n",
    "my_sqrt(2)\n",
    "\n"
   ]
  },
  {
   "cell_type": "markdown",
   "metadata": {},
   "source": [
    "### Aufgabe 2 : Collatz-Problem"
   ]
  },
  {
   "cell_type": "markdown",
   "metadata": {},
   "source": [
    "Wir betrachten die folgende Abbildung ueber den *positiven* natuerlichen Zahlen\n",
    "\n",
    "$$\n",
    "    f(n) = \\left\\lbrace \\begin{array}{ll}\n",
    "                            {}n/2 \\qquad &,\\textrm{falls }n\\textrm{ gerade} \\\\\n",
    "                            3n+1\\qquad &,\\textrm{falls }n\\textrm{ ungerade}\n",
    "                        \\end{array}\n",
    "           \\right.\n",
    "$$\n",
    "\n",
    "sowie die natuerliche Zahl $\\tau(n)$ welche angibt, wie of $f$ iteriert werden muss, bis man die Zahl 1 erreicht, d.h.\n",
    "\n",
    "$$\n",
    "    \\left(f\\circ\\right)^{\\tau(n)}(n) = 1\n",
    "$$"
   ]
  },
  {
   "cell_type": "markdown",
   "metadata": {},
   "source": [
    "Schreiben Sie eine Funktion `tau(n)`, welche diese Zahl berechnet. Berechnen Sie eine Liste `L` der Werte $\\tau(n)$ fuer die ersten `2**20` positiven natuerlichen Zahlen und plotten diese mit\n",
    "\n",
    "```python\n",
    "    from pylab import *\n",
    "    plot(L,'.') # nur Punkte setzen, ohne diese zu verbinden\n",
    "    show()\n",
    "```"
   ]
  },
  {
   "cell_type": "markdown",
   "metadata": {},
   "source": [
    "<a href=\"https://en.wikipedia.org/wiki/Collatz_conjecture\">Collatz-Problem @ Wikipedia</a><br>\n",
    "Collatz-Problem @ xkcd : <img src=\"http://imgs.xkcd.com/comics/collatz_conjecture.png\">"
   ]
  },
  {
   "cell_type": "code",
   "execution_count": 174,
   "metadata": {
    "collapsed": false
   },
   "outputs": [
    {
     "name": "stdout",
     "output_type": "stream",
     "text": [
      "20\n"
     ]
    }
   ],
   "source": [
    "from pylab import *\n",
    "import time\n",
    "\n",
    "def tau(n):\n",
    "    count = 0\n",
    "    while n != 1:\n",
    "        if not (n % 2):\n",
    "            n /= 2\n",
    "            count += 1\n",
    "        else:\n",
    "            n = (n*3) + 1\n",
    "            count += 1\n",
    "    return count\n",
    "\n",
    "print(tau(122))"
   ]
  },
  {
   "cell_type": "code",
   "execution_count": 175,
   "metadata": {
    "collapsed": false
   },
   "outputs": [
    {
     "name": "stdout",
     "output_type": "stream",
     "text": [
      "1048576 Werte in 4.01 Sekunden berechnet.\n"
     ]
    },
    {
     "data": {
      "image/png": "[encoded data removed]",
      "text/plain": [
       "<matplotlib.figure.Figure at 0x26fbcb38ef0>"
      ]
     },
     "metadata": {},
     "output_type": "display_data"
    }
   ],
   "source": [
    "from pylab import *\n",
    "import time\n",
    "\n",
    "d = dict() # lookup table for already solved numbers and iterations-count \n",
    "\n",
    "Lx = list()\n",
    "Ly = list()\n",
    "\n",
    "start = time.time()\n",
    "\n",
    "for i in range(1,2**20+1):\n",
    "    n = i\n",
    "    count = 0\n",
    "    while 1:\n",
    "        if n in d: # if in dictionary then get iterations from this point and add to count\n",
    "            count += d[n]\n",
    "            break\n",
    "        if not (n % 2): # faster than n%2==0\n",
    "            n *= 0.5 # n*0.5 is faster than n/2\n",
    "            count += 1\n",
    "        else:\n",
    "            if n == 1: # could use n!=1 as statement in while loop at the beginning, but its faster to check for n==1 only when n is odd \n",
    "                break\n",
    "            n = (n*3) + 1\n",
    "            count += 1\n",
    "\n",
    "    d.update({i:count}) # add number and iterations-count to lookup table\n",
    "    \n",
    "end = time.time()\n",
    "\n",
    "print(len(d),\"Werte in\",round(end-start,2),\"Sekunden berechnet.\") \n",
    "\n",
    "for key in d:\n",
    "    Lx.append(key)\n",
    "    Ly.append(d[key])\n",
    "   \n",
    "plot(Lx, Ly ,'.') # nur Punkte setzen, ohne diese zu verbinden\n",
    "show()"
   ]
  },
  {
   "cell_type": "code",
   "execution_count": null,
   "metadata": {
    "collapsed": true
   },
   "outputs": [],
   "source": []
  }
 ],
 "metadata": {
  "kernelspec": {
   "display_name": "Python [default]",
   "language": "python",
   "name": "python3"
  },
  "language_info": {
   "codemirror_mode": {
    "name": "ipython",
    "version": 3
   },
   "file_extension": ".py",
   "mimetype": "text/x-python",
   "name": "python",
   "nbconvert_exporter": "python",
   "pygments_lexer": "ipython3",
   "version": "3.5.2"
  }
 },
 "nbformat": 4,
 "nbformat_minor": 1
}
