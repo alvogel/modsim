{
 "cells": [
  {
   "cell_type": "markdown",
   "metadata": {},
   "source": [
    "## Simulation und Modellierung WS17/18 - Uebung 04"
   ]
  },
  {
   "cell_type": "markdown",
   "metadata": {},
   "source": [
    "### Aufgabe 1\n",
    "\n",
    "- Schreiben Sie eine List Comprehension, welche zu einer gegebenen ganzen Zahl `p` eine Liste aller Teiler ausser `1` und `p` erstellt.\n",
    "- Schreiben Sie eine List Comprehension, welche eine Liste aller Primzahlen mit weniger als vier Dezimalziffern erstellt.\n",
    "- Ueberpruefen Sie anhand dieser Listen, ob `377` eine Primzahl ist.\n"
   ]
  },
  {
   "cell_type": "code",
   "execution_count": 6,
   "metadata": {},
   "outputs": [
    {
     "name": "stdout",
     "output_type": "stream",
     "text": [
      "[2, 4, 5, 10, 20, 25, 50]\n"
     ]
    }
   ],
   "source": [
    "p = 100;\n",
    "teiler = [x for x in range(2,p) if p % x == 0]\n",
    "\n",
    "print(teiler)"
   ]
  },
  {
   "cell_type": "code",
   "execution_count": 83,
   "metadata": {},
   "outputs": [
    {
     "name": "stdout",
     "output_type": "stream",
     "text": [
      "[2, 3, 5, 7, 11, 13, 17, 19, 23, 29, 31, 37, 41, 43, 47, 53, 59, 61, 67, 71, 73, 79, 83, 89, 97, 101, 103, 107, 109, 113, 127, 131, 137, 139, 149, 151, 157, 163, 167, 173, 179, 181, 191, 193, 197, 199, 211, 223, 227, 229, 233, 239, 241, 251, 257, 263, 269, 271, 277, 281, 283, 293, 307, 311, 313, 317, 331, 337, 347, 349, 353, 359, 367, 373, 379, 383, 389, 397, 401, 409, 419, 421, 431, 433, 439, 443, 449, 457, 461, 463, 467, 479, 487, 491, 499, 503, 509, 521, 523, 541, 547, 557, 563, 569, 571, 577, 587, 593, 599, 601, 607, 613, 617, 619, 631, 641, 643, 647, 653, 659, 661, 673, 677, 683, 691, 701, 709, 719, 727, 733, 739, 743, 751, 757, 761, 769, 773, 787, 797, 809, 811, 821, 823, 827, 829, 839, 853, 857, 859, 863, 877, 881, 883, 887, 907, 911, 919, 929, 937, 941, 947, 953, 967, 971, 977, 983, 991, 997]\n",
      "\n",
      "Die Zahl 377 ist keine Primzahl!\n"
     ]
    }
   ],
   "source": [
    "top_limit = 1000\n",
    "to_check = 377\n",
    "\n",
    "noprimes = [i*j for i in range(2,top_limit) for j in range(2,top_limit)]\n",
    "primes = [i for i in range(2,top_limit) if i not in noprimes]\n",
    "\n",
    "print(primes)\n",
    "if primes.count(to_check) == 0:\n",
    "    print(\"\\nDie Zahl\",to_check,\"ist keine Primzahl!\")\n",
    "else:\n",
    "    print(\"\\nDie Zahl\",to_check,\"ist eine Primzahl!\")\n"
   ]
  },
  {
   "cell_type": "markdown",
   "metadata": {},
   "source": [
    "### Aufgabe 2\n",
    "\n",
    "Schreiben Sie Python Code, welcher die Gleitkommazahl, welche durch eine gegebene 64 Bitfolge beschrieben wird berechnet. \n",
    "\n",
    "z.B. : `s = \"0100000001011110110111010011110000000111111011100000101100001011\"`\n",
    "\n",
    "*Hinweis :* Sie koennen eine Bitfolge `s` durch `int(s,base=2)` in eine ganze Zahl umwandeln."
   ]
  },
  {
   "cell_type": "code",
   "execution_count": 152,
   "metadata": {},
   "outputs": [
    {
     "name": "stdout",
     "output_type": "stream",
     "text": [
      "123.456789\n"
     ]
    }
   ],
   "source": [
    "s = \"0100000001011110110111010011110000000111111011100000101100001011\"\n",
    "v = int(s[0:1],2)\n",
    "e = int(s[1:12],2)\n",
    "m = int(s[12:65],2)\n",
    "\n",
    "#print(int(v,2))\n",
    "#print(int(e,2))\n",
    "#print(int(m,2))\n",
    "\n",
    "zahl = ((-1)**0) * (1+m/2**52) * 2**(e-1023)\n",
    "\n",
    "print(zahl)\n"
   ]
  },
  {
   "cell_type": "markdown",
   "metadata": {},
   "source": [
    "Der folgende Code fuehrt die umgekehrte Operation aus. Aus einer `float64` Gleitkommazahl wird die Bitfolge generiert, welche diese Zahl repraesentiert. Ueberpruefen Sie damit Ihre Berechnung."
   ]
  },
  {
   "cell_type": "code",
   "execution_count": 153,
   "metadata": {},
   "outputs": [
    {
     "name": "stdout",
     "output_type": "stream",
     "text": [
      "0100000001011110110111010011110000000111111011100000101100001011\n"
     ]
    }
   ],
   "source": [
    "import numpy as np \n",
    "x=123.456789                           # schreiben Sie hier x=y, um die Bitfolge der float64 variable y zu erhalten\n",
    "b=np.array(x,dtype=np.float64)       # schreibt den Inhalt von x in ein Numpy array b\n",
    "b.dtype=np.int64                     # interpretiert den Inhalt von b als 64Bit ganze Zahl\n",
    "print(np.binary_repr(b,64))         # Ausgabe der Bitfolge fuer die ganze Zahl b"
   ]
  },
  {
   "cell_type": "markdown",
   "metadata": {},
   "source": [
    "### Zusatzaufgabe (+10%)"
   ]
  },
  {
   "cell_type": "markdown",
   "metadata": {},
   "source": [
    "- Schreiben Sie eine List Comprehension, welche zu zwei gegebenen ganzen Zahlen eine Liste aller gemeinsamen Teiler ausser `1` ausgibt.\n",
    "- Schreiben Sie eine List Comprehension, welche eine Liste mit teilerfremden Paaren `(p,q)` von positiven ganzen Zahlen mit jeweils genau einer Dezimalziffer erzeugt.\n",
    "- Schreiben Sie eine List Comprehension welche alle Paare `((p0,q0),(p1,q1))` aus einer Liste von Paaren `(p,q)` heraussucht, fuer die $p_0\\ne p_1$ und $\\frac{p_0}{q_0} = \\frac{p_1}{q_1}$ gilt. Welches Ergebnis erhalten Sie, wenn Sie diese List Comprehension ueber die Liste der teilerfremden Paare laufen lassen?"
   ]
  },
  {
   "cell_type": "code",
   "execution_count": 111,
   "metadata": {},
   "outputs": [
    {
     "name": "stdout",
     "output_type": "stream",
     "text": [
      "[2, 3, 4, 6, 12]\n"
     ]
    }
   ],
   "source": [
    "p1 = 12\n",
    "p2 = 120\n",
    "\n",
    "l = [i for i in range(2,p1+1) if p1 % i == 0 and p2 % i == 0]\n",
    "\n",
    "print(l)"
   ]
  },
  {
   "cell_type": "code",
   "execution_count": 81,
   "metadata": {},
   "outputs": [
    {
     "name": "stdout",
     "output_type": "stream",
     "text": [
      "[[2, 3], [2, 5], [2, 7], [2, 9], [3, 4], [3, 5], [3, 7], [3, 8], [4, 5], [4, 6], [4, 7], [4, 9], [5, 6], [5, 7], [5, 8], [5, 9], [6, 7], [6, 8], [6, 9], [7, 8], [7, 9], [8, 9]]\n"
     ]
    }
   ],
   "source": [
    "limit = 10\n",
    "\n",
    "result = []\n",
    "l = [[i,j] for i in range(1,limit) for j in range(1,limit) for k in range(1,limit) if ((i % k != 0 or j % k != 0) and i >= k and j >= k and i != j and i % j != 0 and j % i != 0)]\n",
    "\n",
    "for i in l:\n",
    "    i.sort()\n",
    "    if result.count(i) == 0:\n",
    "        result.append(i)\n",
    "    \n",
    "print(result)"
   ]
  },
  {
   "cell_type": "code",
   "execution_count": 82,
   "metadata": {},
   "outputs": [
    {
     "name": "stdout",
     "output_type": "stream",
     "text": [
      "[(1, 1, 2, 2), (1, 1, 3, 3), (1, 1, 4, 4), (1, 1, 5, 5), (1, 1, 6, 6), (1, 1, 7, 7), (1, 1, 8, 8), (1, 1, 9, 9), (1, 2, 2, 4), (1, 2, 3, 6), (1, 2, 4, 8), (1, 3, 2, 6), (1, 3, 3, 9), (1, 4, 2, 8), (2, 1, 4, 2), (2, 1, 6, 3), (2, 1, 8, 4), (2, 2, 1, 1), (2, 2, 3, 3), (2, 2, 4, 4), (2, 2, 5, 5), (2, 2, 6, 6), (2, 2, 7, 7), (2, 2, 8, 8), (2, 2, 9, 9), (2, 3, 4, 6), (2, 3, 6, 9), (2, 4, 1, 2), (2, 4, 3, 6), (2, 4, 4, 8), (2, 6, 1, 3), (2, 6, 3, 9), (2, 8, 1, 4), (3, 1, 6, 2), (3, 1, 9, 3), (3, 2, 6, 4), (3, 2, 9, 6), (3, 3, 1, 1), (3, 3, 2, 2), (3, 3, 4, 4), (3, 3, 5, 5), (3, 3, 6, 6), (3, 3, 7, 7), (3, 3, 8, 8), (3, 3, 9, 9), (3, 4, 6, 8), (3, 6, 1, 2), (3, 6, 2, 4), (3, 6, 4, 8), (3, 9, 1, 3), (3, 9, 2, 6), (4, 1, 8, 2), (4, 2, 2, 1), (4, 2, 6, 3), (4, 2, 8, 4), (4, 3, 8, 6), (4, 4, 1, 1), (4, 4, 2, 2), (4, 4, 3, 3), (4, 4, 5, 5), (4, 4, 6, 6), (4, 4, 7, 7), (4, 4, 8, 8), (4, 4, 9, 9), (4, 6, 2, 3), (4, 6, 6, 9), (4, 8, 1, 2), (4, 8, 2, 4), (4, 8, 3, 6), (5, 5, 1, 1), (5, 5, 2, 2), (5, 5, 3, 3), (5, 5, 4, 4), (5, 5, 6, 6), (5, 5, 7, 7), (5, 5, 8, 8), (5, 5, 9, 9), (6, 2, 3, 1), (6, 2, 9, 3), (6, 3, 2, 1), (6, 3, 4, 2), (6, 3, 8, 4), (6, 4, 3, 2), (6, 4, 9, 6), (6, 6, 1, 1), (6, 6, 2, 2), (6, 6, 3, 3), (6, 6, 4, 4), (6, 6, 5, 5), (6, 6, 7, 7), (6, 6, 8, 8), (6, 6, 9, 9), (6, 8, 3, 4), (6, 9, 2, 3), (6, 9, 4, 6), (7, 7, 1, 1), (7, 7, 2, 2), (7, 7, 3, 3), (7, 7, 4, 4), (7, 7, 5, 5), (7, 7, 6, 6), (7, 7, 8, 8), (7, 7, 9, 9), (8, 2, 4, 1), (8, 4, 2, 1), (8, 4, 4, 2), (8, 4, 6, 3), (8, 6, 4, 3), (8, 8, 1, 1), (8, 8, 2, 2), (8, 8, 3, 3), (8, 8, 4, 4), (8, 8, 5, 5), (8, 8, 6, 6), (8, 8, 7, 7), (8, 8, 9, 9), (9, 3, 3, 1), (9, 3, 6, 2), (9, 6, 3, 2), (9, 6, 6, 4), (9, 9, 1, 1), (9, 9, 2, 2), (9, 9, 3, 3), (9, 9, 4, 4), (9, 9, 5, 5), (9, 9, 6, 6), (9, 9, 7, 7), (9, 9, 8, 8)]\n"
     ]
    }
   ],
   "source": [
    "limit = 10\n",
    "\n",
    "l = [(pn,qn,pe,qe) for pn in range(1,limit) for qn in range(1,limit) for pe in range(1,limit) for qe in range(1,limit) if pn != pe and pn/qn == pe/qe]\n",
    "\n",
    "print(l)"
   ]
  },
  {
   "cell_type": "markdown",
   "metadata": {},
   "source": [
    "------------------\n",
    "**nuetzliche Keyboard shotcuts**\n",
    "\n",
    "|              |               |\n",
    "|--------------|---------------|\n",
    "| `Esc`        | Kommando Modus   |\n",
    "| `Enter`      | Editier Modus    |\n",
    "|`Shift-Enter` | ausfuehren, Zelle darunter auswaehlen |\n",
    "|`Ctrl-Enter`  | ausfuehren, selbe Zelle auswaehlen    |\n",
    "|`Alt-Enter`   | ausfuehren, Zelle darunter einfuegen |\n",
    "| `b`          | Zelle unterhalb einfuegen |\n",
    "| `a`          | Zelle ueberhalb einfuegen |\n",
    "| `dd`          | Zelle loeschen |\n",
    "| `z`          | Zelle loeschen rueckgaengig machen |\n",
    "\n",
    "---------------------"
   ]
  },
  {
   "cell_type": "code",
   "execution_count": null,
   "metadata": {
    "collapsed": true
   },
   "outputs": [],
   "source": []
  }
 ],
 "metadata": {
  "kernelspec": {
   "display_name": "Python 3",
   "language": "python",
   "name": "python3"
  },
  "language_info": {
   "codemirror_mode": {
    "name": "ipython",
    "version": 3
   },
   "file_extension": ".py",
   "mimetype": "text/x-python",
   "name": "python",
   "nbconvert_exporter": "python",
   "pygments_lexer": "ipython3",
   "version": "3.6.2"
  }
 },
 "nbformat": 4,
 "nbformat_minor": 1
}
