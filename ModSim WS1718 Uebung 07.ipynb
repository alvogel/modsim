{
 "cells": [
  {
   "cell_type": "markdown",
   "metadata": {},
   "source": [
    "## Simulation und Modellierung WS 17/18 Uebung 07 : \n",
    "### Methode der kleinsten quadratischen Abweichungen"
   ]
  },
  {
   "cell_type": "markdown",
   "metadata": {},
   "source": [
    "### <u>Aufgabe 1</u>"
   ]
  },
  {
   "cell_type": "markdown",
   "metadata": {},
   "source": [
    "Fuer die Koordinaten $(x,y)$ eines beliebiegen Kegelschnittes in der Ebene gilt\n",
    "\n",
    "$$\n",
    "        f(x,y) = A x^2 + B xy + C y^2 + D x + E y = 1\n",
    "$$\n",
    "\n",
    "Die Datei `orbit.dat` enthaelt eine Tabelle von $x$ und $y$ Werten, welche messfehlerbehaftete Punkte eines Kegelschnittes sind. \n",
    "\n",
    "\n",
    "- Laden Sie die Daten in ein `numpy` Array und finden Sie die Koeffizienten $A,B,C,D$ und $E$, welche die Summe der quadratischen Abweichungen ueber alle Messpunkte des Ausdrucks auf der linken Seite zur Zahl `1` minimiert.\n",
    "\n",
    "Der Kegelschnitt ist eine geschlossene Kurve, wenn $B^2-4AC<0$ gilt, eine Parabel, wenn $B^2-4AC=0$ und ansonsten eine Hyperbel.\n",
    "\n",
    "- Ist dieser Kegelschnitt eine offene oder geschlossene Kurve?\n",
    "- Zeichnen Sie alle Kurven $y=y(x)$, die die Kegelschnittgleichung erfuellen zusammen mit den Datenpunkten in ein Diagram.\n",
    "\n",
    "*Hinweis* : Sie koennen entweder Kegelschnittgleichung als quadratische Gleichung explizit nach $y$ aufloesen und beide Loesungen dort plotten, wo der Imaginaerteil gleich Null (oder sehr klein) ist, oder die matplotlib Funktion `mpl.contour(X,Y,f(X,Y),[1.0])` mit `X,Y = np.meshgrid(np.linspace(-2,2),np.linspace(-2,2))`, um die Hoehenlinie $f(X,Y)=1$ darzustellen.\n",
    "\n",
    "*Zur Erinnerung* : Die Summe der quadratischen Abweichungen eines ueberbestimmten linearen Gleichungssystems\n",
    "\n",
    "$$\n",
    "    \\mathrm{A}(\\vec{x},\\vec{y}) \\vec{c} = \\vec{b}\n",
    "$$\n",
    "wird durch die Loesung des kleineren linearen Gleichungssystems\n",
    "\n",
    "$$\n",
    "    \\mathrm{A}^\\top\\mathrm{A} \\vec{c} = \\mathrm{A}^\\top\\vec{b}\n",
    "$$\n",
    "minimiert."
   ]
  },
  {
   "cell_type": "code",
   "execution_count": 26,
   "metadata": {
    "collapsed": true
   },
   "outputs": [],
   "source": [
    "from pylab import *\n",
    "import matplotlib.pyplot as mpl\n",
    "%matplotlib inline"
   ]
  },
  {
   "cell_type": "code",
   "execution_count": 33,
   "metadata": {},
   "outputs": [],
   "source": [
    "def is_closed(A, B, C):\n",
    "    if B**2 - 4 * A * C < 0:\n",
    "        return True\n",
    "    else:\n",
    "        return False\n",
    "\n",
    "def is_parabola(A, B, C):\n",
    "    if B**2 - 4 * A * C == 0:\n",
    "        return True\n",
    "    else:\n",
    "        return False\n",
    "\n",
    "def is_hyperbole(A, B, C):\n",
    "    if not is_closed(A, B, C) and not is_parabel(A, B, C):\n",
    "        return True\n",
    "    else:\n",
    "        return False"
   ]
  },
  {
   "cell_type": "code",
   "execution_count": 34,
   "metadata": {},
   "outputs": [
    {
     "name": "stdout",
     "output_type": "stream",
     "text": [
      "Die Koeffizienten sind:\n",
      "A =  0.982733298509\n",
      "B =  0.956731246416\n",
      "C =  0.958617791605\n",
      "D =  1.00987492995\n",
      "E =  1.02591761782\n",
      "Die Kurve ist geschlossen.\n"
     ]
    },
    {
     "data": {
      "image/png": "[encoded data removed]",
      "text/plain": [
       "<matplotlib.figure.Figure at 0x2ac81e99fd0>"
      ]
     },
     "metadata": {},
     "output_type": "display_data"
    }
   ],
   "source": [
    "data=np.loadtxt('orbit.dat')\n",
    "#print(data.shape)\n",
    "\n",
    "# function to calc f(x,y) \n",
    "\n",
    "def f(x,y,A,B,C,D,F):\n",
    "    result = A * x**2 + B * x * y + C * y**2 + D * x + E * y\n",
    "    return result\n",
    "\n",
    "x=data[:,0]\n",
    "y=data[:,1]\n",
    "\n",
    "N = data.shape[0]\n",
    "\n",
    "# variables matrix\n",
    "\n",
    "v = np.ones((N,5))\n",
    "\n",
    "# result vector\n",
    "\n",
    "r = np.ones((N,1))\n",
    "\n",
    "# fill matrix with values\n",
    "\n",
    "for i in range(N):\n",
    "    v[i][0] = x[i]**2\n",
    "    v[i][1] = x[i] * y[i]\n",
    "    v[i][2] = y[i]**2\n",
    "    v[i][3] = x[i]\n",
    "    v[i][4] = y[i]\n",
    "\n",
    "# solve with method of least squares    \n",
    "\n",
    "result = np.linalg.lstsq(v, r)[0]\n",
    "\n",
    "# define and assign coefficents\n",
    "\n",
    "A = result[0][0]\n",
    "B = result[1][0]\n",
    "C = result[2][0]\n",
    "D = result[3][0]\n",
    "E = result[4][0]\n",
    "\n",
    "# print coefficents\n",
    "\n",
    "print(\"Die Koeffizienten sind:\")\n",
    "print(\"A = \",A)\n",
    "print(\"B = \",B)\n",
    "print(\"C = \",C)\n",
    "print(\"D = \",D)\n",
    "print(\"E = \",E)\n",
    "\n",
    "if is_closed(A, B, C):\n",
    "    print(\"Die Kurve ist geschlossen.\")\n",
    "else:\n",
    "    print(\"Die Kurve ist offen.\")\n",
    "\n",
    "# create two dimensional interval\n",
    "\n",
    "xg,yg = np.meshgrid(np.linspace(-2,2),np.linspace(-2,2))\n",
    "\n",
    "# plot calculated curve\n",
    "\n",
    "mpl.contour(xg,yg,f(xg,yg,A,B,C,D,E),[1])\n",
    "\n",
    "# plot data points\n",
    "\n",
    "plot(data[:,0],data[:,1], \"*\")\n",
    "\n",
    "show()"
   ]
  },
  {
   "cell_type": "code",
   "execution_count": 29,
   "metadata": {
    "collapsed": true
   },
   "outputs": [],
   "source": [
    "x=data[:,0]\n",
    "y=data[:,1]"
   ]
  },
  {
   "cell_type": "markdown",
   "metadata": {},
   "source": [
    "### <u>Zusatzaufgabe</u>"
   ]
  },
  {
   "cell_type": "markdown",
   "metadata": {},
   "source": [
    "- Schreiben Sie eine Funktion `polyfit(x,y,N=0)`, welche fuer `L` Datenpunkte in den Feldern `x` und `y` die Koeffizienten `c` eines Polynoms \n",
    "$$\n",
    "    y = p(x)= c_0 x^0 + c_1 x^1 + c_2 x^2 + \\dots + c_N x^N\n",
    "$$ \n",
    "`N`ten Grades findet, welches die Summe der quadratischen Abweichungen $\\sum_l (p(x_l)-y_l)^2$ minimiert.\n",
    "- Demonstrieren Sie die Funktion grafisch anhand von `L` $\\gg$ `N` Punkten eines Polynoms, welche zufaellige Abweichungen in $x$ und $y$ Richtung aufweisen. *Hinweis* : `np.random.randn(N)` generiert ein Feld mit N standard normalverteilten Zufallszahlen)\n",
    "- Finden Sie ein Polynom, welches die Daten der ersten Aufgabe gut beschreibt."
   ]
  },
  {
   "cell_type": "code",
   "execution_count": 30,
   "metadata": {},
   "outputs": [
    {
     "data": {
      "image/png": "[encoded data removed]",
      "text/plain": [
       "<matplotlib.figure.Figure at 0x2ac822fb7f0>"
      ]
     },
     "metadata": {},
     "output_type": "display_data"
    }
   ],
   "source": [
    "# solves lgs with degree N and returns coefficents\n",
    "\n",
    "def polyfit(x,y,N=0):\n",
    "    N += 1\n",
    "    c = np.zeros((x.shape[0], N))\n",
    "    \n",
    "    for i in range(x.shape[0]):\n",
    "        for j in range(N):\n",
    "            c[i][j] = x[i]**j\n",
    "    \n",
    "    result = np.linalg.lstsq(c,y)[0]\n",
    "\n",
    "    return result\n",
    "\n",
    "# calculate the polynom\n",
    "\n",
    "def polycalc(x,c):\n",
    "    \n",
    "    result = np.zeros(x.shape)\n",
    "    \n",
    "    for j in range(len(c)):\n",
    "        result += c[j]*x**j\n",
    "    \n",
    "    return result\n",
    "\n",
    "# Set polynomial degree\n",
    "\n",
    "N = 14    \n",
    "\n",
    "# random x and y values\n",
    "\n",
    "x = np.array([x for x in range(N)])\n",
    "y = np.array(np.random.randn(N))\n",
    "\n",
    "# solve to get coefficents\n",
    "\n",
    "c = polyfit(x,y,7)\n",
    "\n",
    "# plot random points which were defined before\n",
    "\n",
    "plot(x,y,\"*\")\n",
    "\n",
    "# create interval from first to last point\n",
    "\n",
    "x = np.linspace(x[0],x[-1],100)\n",
    "\n",
    "# plot the interpolated spline \n",
    "\n",
    "plot(x,polycalc(x,c))\n",
    "\n",
    "show()"
   ]
  },
  {
   "cell_type": "code",
   "execution_count": 35,
   "metadata": {},
   "outputs": [
    {
     "name": "stdout",
     "output_type": "stream",
     "text": [
      "[ 0.61802525 -0.72122049 -0.35953914 -0.09245555 -0.08053382 -0.00784994]\n"
     ]
    },
    {
     "data": {
      "image/png": "[encoded data removed]",
      "text/plain": [
       "<matplotlib.figure.Figure at 0x2ac82c5d4e0>"
      ]
     },
     "metadata": {},
     "output_type": "display_data"
    },
    {
     "name": "stdout",
     "output_type": "stream",
     "text": [
      "Das Polynom, welches die Daten aus Aufgabe 1 beschreibt lautet: \n",
      " f(x) = 0.6180 * x ^ 0 + -0.7212 * x^1 + -0.3595 * x^2 + -0.0925 * x^3 + -0.0805 * x^4 + -0.0078 * x^5\n"
     ]
    }
   ],
   "source": [
    "data=np.loadtxt('orbit.dat')\n",
    "\n",
    "x=data[:,0]\n",
    "y=data[:,1]\n",
    "\n",
    "\n",
    "c = polyfit(x,y,5)\n",
    "\n",
    "print(c)\n",
    "\n",
    "plot(x,y,\"*\")\n",
    "\n",
    "x = np.linspace(x[0],x[-1],100)\n",
    "\n",
    "plot(x,polycalc(x,c))\n",
    "\n",
    "show()\n",
    "\n",
    "print(\"Das Polynom, welches die Daten aus Aufgabe 1 beschreibt lautet: \\n f(x) = %2.4f * x ^ 0 + %2.4f * x^1 + %2.4f * x^2 + %2.4f * x^3 + %2.4f * x^4 + %2.4f * x^5\" % (c[0],c[1],c[2],c[3],c[4],c[5]))"
   ]
  },
  {
   "cell_type": "code",
   "execution_count": null,
   "metadata": {
    "collapsed": true
   },
   "outputs": [],
   "source": []
  }
 ],
 "metadata": {
  "kernelspec": {
   "display_name": "Python 3",
   "language": "python",
   "name": "python3"
  }
 },
 "nbformat": 4,
 "nbformat_minor": 1
}
